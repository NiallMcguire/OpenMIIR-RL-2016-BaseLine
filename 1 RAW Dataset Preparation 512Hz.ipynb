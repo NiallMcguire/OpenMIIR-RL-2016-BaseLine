{
 "cells": [
  {
   "cell_type": "code",
   "execution_count": 1,
   "metadata": {
    "collapsed": false,
    "deletable": true,
    "editable": true
   },
   "outputs": [
    {
     "name": "stderr",
     "output_type": "stream",
     "text": [
      "C:\\Users\\niall\\Documents\\PhD\\Installs\\lib\\site-packages\\mne\\preprocessing\\maxwell.py:595: DeprecationWarning: inspect.getargspec() is deprecated since Python 3.0, use inspect.signature() or inspect.getfullargspec()\n",
      "  if 'check_finite' in inspect.getargspec(linalg.svd)[0]:\n"
     ]
    }
   ],
   "source": [
    "import numpy as np\n",
    "import deepthought, mne, os\n",
    "\n",
    "mne.set_log_level('WARNING')\n",
    "# mne.set_log_level('INFO')\n",
    "verbose = False\n",
    "\n",
    "from openmiir.constants import STIMULUS_IDS\n",
    "from openmiir.metadata import load_stimuli_metadata, get_stimuli_version\n",
    "from openmiir.events import get_event_id\n",
    "from deepthought.util.fs_util import save\n",
    "\n",
    "sfreq = 512  # no down-sampling\n",
    "\n",
    "# select data to be extracted\n",
    "# subjects = ['P01','P04','P05','P06','P07','P09','P11','P12','P13','P14']\n",
    "subjects = ['P01','P04','P06','P07','P09','P11','P12','P13','P14']  # excluding P05\n",
    "\n",
    "conditions = [1]\n",
    "stimuli = STIMULUS_IDS\n",
    "\n",
    "include_cue = False\n",
    "use_mastoid_reference = False\n",
    "\n",
    "data_root = 'C:/Users/niall/Desktop/OpenMIIR-RawEEG_v1'\n",
    "mne_data_root = os.path.join(r\"C:\\Users\\niall\\Desktop\\OpenMIIR-RawEEG_v1\")\n",
    "ica_data_root = os.path.join(r\"C:\\Users\\niall\\Desktop\\OpenMIIR-RawEEG_v1\\ICA\")\n",
    "target_path = 'data/OpenMIIR-Perception-512Hz.pklz'"
   ]
  },
  {
   "cell_type": "code",
   "execution_count": 2,
   "metadata": {
    "collapsed": true,
    "deletable": true,
    "editable": true
   },
   "outputs": [],
   "source": [
    "cache = dict()"
   ]
  },
  {
   "cell_type": "code",
   "execution_count": 3,
   "metadata": {
    "collapsed": false,
    "deletable": true,
    "editable": true,
    "scrolled": false
   },
   "outputs": [
    {
     "name": "stdout",
     "output_type": "stream",
     "text": [
      "P01\n"
     ]
    },
    {
     "name": "stderr",
     "output_type": "stream",
     "text": [
      "C:\\Users\\niall\\Documents\\PhD\\Installs\\lib\\site-packages\\mne\\utils.py:530: DeprecationWarning: inspect.getargspec() is deprecated since Python 3.0, use inspect.signature() or inspect.getfullargspec()\n",
      "  arg_names = inspect.getargspec(function).args\n",
      "C:\\Users\\niall\\Documents\\PhD\\Installs\\lib\\site-packages\\mne\\io\\tag.py:143: DeprecationWarning: The binary mode of fromstring is deprecated, as it behaves surprisingly on unicode inputs. Use frombuffer instead\n",
      "  tag = Tag(*np.fromstring(s, '>i4'))\n",
      "C:\\Users\\niall\\Documents\\PhD\\Installs\\lib\\site-packages\\mne\\io\\tag.py:234: DeprecationWarning: The binary mode of fromstring is deprecated, as it behaves surprisingly on unicode inputs. Use frombuffer instead\n",
      "  tag = Tag(*np.fromstring(s, dtype='>i4,>u4,>i4,>i4')[0])\n",
      "C:\\Users\\niall\\Documents\\PhD\\Installs\\lib\\site-packages\\mne\\io\\tag.py:179: DeprecationWarning: The binary mode of fromstring is deprecated, as it behaves surprisingly on unicode inputs. Use frombuffer instead\n",
      "  out = np.fromstring(fid.read(tag_size), dtype=dtype)\n",
      "C:\\Users\\niall\\Documents\\PhD\\Installs\\lib\\site-packages\\mne\\io\\tag.py:404: DeprecationWarning: The binary mode of fromstring is deprecated, as it behaves surprisingly on unicode inputs. Use frombuffer instead\n",
      "  tag.data['version'] = int(np.fromstring(fid.read(4),\n",
      "C:\\Users\\niall\\Documents\\PhD\\Installs\\lib\\site-packages\\mne\\io\\tag.py:406: DeprecationWarning: The binary mode of fromstring is deprecated, as it behaves surprisingly on unicode inputs. Use frombuffer instead\n",
      "  tag.data['version'] = int(np.fromstring(fid.read(4),\n",
      "C:\\Users\\niall\\Documents\\PhD\\Installs\\lib\\site-packages\\mne\\io\\tag.py:408: DeprecationWarning: The binary mode of fromstring is deprecated, as it behaves surprisingly on unicode inputs. Use frombuffer instead\n",
      "  tag.data['machid'] = np.fromstring(fid.read(8), dtype=\">i4\")\n",
      "C:\\Users\\niall\\Documents\\PhD\\Installs\\lib\\site-packages\\mne\\io\\tag.py:409: DeprecationWarning: The binary mode of fromstring is deprecated, as it behaves surprisingly on unicode inputs. Use frombuffer instead\n",
      "  tag.data['secs'] = int(np.fromstring(fid.read(4), dtype=\">i4\"))\n",
      "C:\\Users\\niall\\Documents\\PhD\\Installs\\lib\\site-packages\\mne\\io\\tag.py:410: DeprecationWarning: The binary mode of fromstring is deprecated, as it behaves surprisingly on unicode inputs. Use frombuffer instead\n",
      "  tag.data['usecs'] = int(np.fromstring(fid.read(4),\n",
      "C:\\Users\\niall\\Documents\\PhD\\Installs\\lib\\site-packages\\mne\\io\\tag.py:432: DeprecationWarning: The binary mode of fromstring is deprecated, as it behaves surprisingly on unicode inputs. Use frombuffer instead\n",
      "  d['scanno'] = int(np.fromstring(fid.read(4), dtype=\">i4\"))\n",
      "C:\\Users\\niall\\Documents\\PhD\\Installs\\lib\\site-packages\\mne\\io\\tag.py:433: DeprecationWarning: The binary mode of fromstring is deprecated, as it behaves surprisingly on unicode inputs. Use frombuffer instead\n",
      "  d['logno'] = int(np.fromstring(fid.read(4), dtype=\">i4\"))\n",
      "C:\\Users\\niall\\Documents\\PhD\\Installs\\lib\\site-packages\\mne\\io\\tag.py:434: DeprecationWarning: The binary mode of fromstring is deprecated, as it behaves surprisingly on unicode inputs. Use frombuffer instead\n",
      "  d['kind'] = int(np.fromstring(fid.read(4), dtype=\">i4\"))\n",
      "C:\\Users\\niall\\Documents\\PhD\\Installs\\lib\\site-packages\\mne\\io\\tag.py:435: DeprecationWarning: The binary mode of fromstring is deprecated, as it behaves surprisingly on unicode inputs. Use frombuffer instead\n",
      "  d['range'] = float(np.fromstring(fid.read(4), dtype=\">f4\"))\n",
      "C:\\Users\\niall\\Documents\\PhD\\Installs\\lib\\site-packages\\mne\\io\\tag.py:436: DeprecationWarning: The binary mode of fromstring is deprecated, as it behaves surprisingly on unicode inputs. Use frombuffer instead\n",
      "  d['cal'] = float(np.fromstring(fid.read(4), dtype=\">f4\"))\n",
      "C:\\Users\\niall\\Documents\\PhD\\Installs\\lib\\site-packages\\mne\\io\\tag.py:437: DeprecationWarning: The binary mode of fromstring is deprecated, as it behaves surprisingly on unicode inputs. Use frombuffer instead\n",
      "  d['coil_type'] = int(np.fromstring(fid.read(4), dtype=\">i4\"))\n",
      "C:\\Users\\niall\\Documents\\PhD\\Installs\\lib\\site-packages\\mne\\io\\tag.py:441: DeprecationWarning: The binary mode of fromstring is deprecated, as it behaves surprisingly on unicode inputs. Use frombuffer instead\n",
      "  d['loc'] = np.fromstring(fid.read(48), dtype=\">f4\")\n",
      "C:\\Users\\niall\\Documents\\PhD\\Installs\\lib\\site-packages\\mne\\io\\tag.py:457: DeprecationWarning: The binary mode of fromstring is deprecated, as it behaves surprisingly on unicode inputs. Use frombuffer instead\n",
      "  d['unit'] = int(np.fromstring(fid.read(4), dtype=\">i4\"))\n",
      "C:\\Users\\niall\\Documents\\PhD\\Installs\\lib\\site-packages\\mne\\io\\tag.py:458: DeprecationWarning: The binary mode of fromstring is deprecated, as it behaves surprisingly on unicode inputs. Use frombuffer instead\n",
      "  d['unit_mul'] = int(np.fromstring(fid.read(4), dtype=\">i4\"))\n",
      "C:\\Users\\niall\\Documents\\PhD\\Installs\\lib\\site-packages\\mne\\io\\tag.py:462: DeprecationWarning: The binary mode of fromstring is deprecated, as it behaves surprisingly on unicode inputs. Use frombuffer instead\n",
      "  ch_name = np.fromstring(fid.read(16), dtype=\">c\")\n",
      "C:\\Users\\niall\\Documents\\PhD\\Installs\\lib\\site-packages\\mne\\io\\tag.py:463: DeprecationWarning: tostring() is deprecated. Use tobytes() instead.\n",
      "  ch_name = ch_name[:np.argmax(ch_name == b'')].tostring()\n",
      "C:\\Users\\niall\\Documents\\PhD\\Installs\\lib\\site-packages\\mne\\io\\tag.py:379: DeprecationWarning: tostring() is deprecated. Use tobytes() instead.\n",
      "  td = tag.data.tostring().decode('utf-8', 'ignore')\n",
      "C:\\Users\\niall\\Documents\\PhD\\Installs\\lib\\site-packages\\mne\\io\\tag.py:261: DeprecationWarning: The binary mode of fromstring is deprecated, as it behaves surprisingly on unicode inputs. Use frombuffer instead\n",
      "  ndim = int(np.fromstring(fid.read(4), dtype='>i4'))\n",
      "C:\\Users\\niall\\Documents\\PhD\\Installs\\lib\\site-packages\\mne\\io\\tag.py:263: DeprecationWarning: The binary mode of fromstring is deprecated, as it behaves surprisingly on unicode inputs. Use frombuffer instead\n",
      "  dims = np.fromstring(fid.read(4 * ndim), dtype='>i4')[::-1]\n",
      "C:\\Users\\niall\\Documents\\PhD\\Installs\\lib\\site-packages\\mne\\io\\tag.py:282: DeprecationWarning: The binary mode of fromstring is deprecated, as it behaves surprisingly on unicode inputs. Use frombuffer instead\n",
      "  tag.data = np.fromstring(read_big(fid, 4 * dims.prod()),\n",
      "C:\\Users\\niall\\Documents\\PhD\\Installs\\lib\\site-packages\\mne\\io\\pick.py:207: DeprecationWarning: `np.bool` is a deprecated alias for the builtin `bool`. To silence this warning, use `bool` by itself. Doing this will not modify any behavior and is safe. If you specifically wanted the numpy scalar type, use `np.bool_` here.\n",
      "Deprecated in NumPy 1.20; for more details and guidance: https://numpy.org/devdocs/release/1.20.0-notes.html#deprecations\n",
      "  pick = np.zeros(nchan, dtype=np.bool)\n",
      "C:\\Users\\niall\\Documents\\PhD\\Installs\\lib\\site-packages\\mne\\io\\tag.py:175: DeprecationWarning: The binary mode of fromstring is deprecated, as it behaves surprisingly on unicode inputs. Use frombuffer instead\n",
      "  out = np.fromstring(fid.read(read_size), dtype=dtype)\n"
     ]
    },
    {
     "name": "stdout",
     "output_type": "stream",
     "text": [
      "An average reference projection was already added. The data has been left untouched.\n"
     ]
    },
    {
     "name": "stderr",
     "output_type": "stream",
     "text": [
      "C:\\Users\\niall\\Documents\\PhD\\Installs\\lib\\site-packages\\mne\\event.py:425: DeprecationWarning: `np.int` is a deprecated alias for the builtin `int`. To silence this warning, use `int` by itself. Doing this will not modify any behavior and is safe. When replacing `np.int`, you may wish to use e.g. `np.int64` or `np.int32` to specify the precision. If you wish to review your current use, check the release note link for additional information.\n",
      "Deprecated in NumPy 1.20; for more details and guidance: https://numpy.org/devdocs/release/1.20.0-notes.html#deprecations\n",
      "  data = data.astype(np.int)\n",
      "C:\\Users\\niall\\Documents\\PhD\\Installs\\lib\\site-packages\\mne\\channels\\interpolation.py:137: DeprecationWarning: `np.bool` is a deprecated alias for the builtin `bool`. To silence this warning, use `bool` by itself. Doing this will not modify any behavior and is safe. If you specifically wanted the numpy scalar type, use `np.bool_` here.\n",
      "Deprecated in NumPy 1.20; for more details and guidance: https://numpy.org/devdocs/release/1.20.0-notes.html#deprecations\n",
      "  bads_idx = np.zeros(len(inst.ch_names), dtype=np.bool)\n",
      "C:\\Users\\niall\\Documents\\PhD\\Installs\\lib\\site-packages\\mne\\channels\\interpolation.py:138: DeprecationWarning: `np.bool` is a deprecated alias for the builtin `bool`. To silence this warning, use `bool` by itself. Doing this will not modify any behavior and is safe. If you specifically wanted the numpy scalar type, use `np.bool_` here.\n",
      "Deprecated in NumPy 1.20; for more details and guidance: https://numpy.org/devdocs/release/1.20.0-notes.html#deprecations\n",
      "  goods_idx = np.zeros(len(inst.ch_names), dtype=np.bool)\n",
      "C:\\Users\\niall\\Documents\\PhD\\Installs\\lib\\site-packages\\mne\\filter.py:100: DeprecationWarning: `np.float` is a deprecated alias for the builtin `float`. To silence this warning, use `float` by itself. Doing this will not modify any behavior and is safe. If you specifically wanted the numpy scalar type, use `np.float64` here.\n",
      "Deprecated in NumPy 1.20; for more details and guidance: https://numpy.org/devdocs/release/1.20.0-notes.html#deprecations\n",
      "  cost = (np.ceil(n_tot / (N - n_h_cost + 1).astype(np.float)) *\n",
      "C:\\Users\\niall\\Documents\\PhD\\Installs\\lib\\site-packages\\mne\\parallel.py:73: DeprecationWarning: inspect.getargspec() is deprecated since Python 3.0, use inspect.signature() or inspect.getfullargspec()\n",
      "  p_args = inspect.getargspec(Parallel.__init__).args\n",
      "C:\\Users\\niall\\PycharmProjects\\openmiir-rl-2016\\mneext\\resample.py:95: FutureWarning: Pass orig_sr=512.0, target_sr=512.0 as keyword args. From version 0.10 passing these as positional arguments will result in an error\n",
      "  new_data_chunk.append(librosa.resample(channel, o_sfreq, sfreq, res_type=res_type))\n",
      "C:\\Users\\niall\\Documents\\PhD\\Installs\\lib\\site-packages\\mne\\io\\tag.py:285: DeprecationWarning: The binary mode of fromstring is deprecated, as it behaves surprisingly on unicode inputs. Use frombuffer instead\n",
      "  tag.data = np.fromstring(read_big(fid, 8 * dims.prod()),\n",
      "C:\\Users\\niall\\Documents\\PhD\\Installs\\lib\\site-packages\\mne\\preprocessing\\ica.py:1923: DeprecationWarning: inspect.getargspec() is deprecated since Python 3.0, use inspect.signature() or inspect.getfullargspec()\n",
      "  if k in getargspec(ICA.__init__).args)\n",
      "C:\\Users\\niall\\Documents\\PhD\\Installs\\lib\\site-packages\\mne\\utils.py:741: DeprecationWarning: distutils Version classes are deprecated. Use packaging.version instead.\n",
      "  this_version = LooseVersion(library.__version__)\n",
      "C:\\Users\\niall\\Documents\\PhD\\Installs\\lib\\site-packages\\setuptools\\_distutils\\version.py:351: DeprecationWarning: distutils Version classes are deprecated. Use packaging.version instead.\n",
      "  other = LooseVersion(other)\n"
     ]
    },
    {
     "name": "stdout",
     "output_type": "stream",
     "text": [
      "P04\n",
      "An average reference projection was already added. The data has been left untouched.\n",
      "P06\n",
      "An average reference projection was already added. The data has been left untouched.\n",
      "P07\n",
      "An average reference projection was already added. The data has been left untouched.\n",
      "P09\n",
      "P11\n",
      "P12\n",
      "P13\n",
      "P14\n"
     ]
    }
   ],
   "source": [
    "from openmiir.preprocessing import load_and_preprocess_raw\n",
    "from openmiir.preprocessing.pipeline import load_raw_info\n",
    "\n",
    "for subject in subjects:\n",
    "    print(subject)\n",
    "    if subject in cache: continue\n",
    "    \n",
    "    info = load_raw_info(subject, mne_data_root=mne_data_root)  # need to keep info with bad channels for later\n",
    "\n",
    "    raw, trial_events = load_and_preprocess_raw(subject, \n",
    "                                            mne_data_root=mne_data_root,\n",
    "                                            ica_data_root=ica_data_root,\n",
    "                                            onsets='audio',\n",
    "                                            interpolate_bad_channels=True,\n",
    "                                            reference_mastoids=use_mastoid_reference,\n",
    "                                            l_freq=0.5,\n",
    "                                            h_freq=30,\n",
    "                                            sfreq=sfreq,\n",
    "                                            ica_cleaning=True,\n",
    "                                            verbose=None,\n",
    "                                            n_jobs=4)\n",
    "    cache[subject] = raw, trial_events, info"
   ]
  },
  {
   "cell_type": "code",
   "execution_count": 10,
   "metadata": {
    "collapsed": false,
    "deletable": true,
    "editable": true,
    "scrolled": true
   },
   "outputs": [
    {
     "name": "stdout",
     "output_type": "stream",
     "text": [
      "hello\n",
      "P01 1 []\n",
      "P04 1 []\n",
      "P06 1 []\n",
      "P07 1 []\n",
      "P09 2 []\n",
      "P11 2 []\n",
      "P12 2 []\n",
      "P13 2 []\n",
      "P14 2 []\n",
      "saving dataset to data/OpenMIIR-Perception-512Hz.pklz\n",
      "540 540\n"
     ]
    }
   ],
   "source": [
    "trials = []\n",
    "metadata = []\n",
    "print(\"hello\")\n",
    "for subject in subjects:    \n",
    "    # load metadata\n",
    "    meta_version = get_stimuli_version(subject)\n",
    "    meta = load_stimuli_metadata(data_root, meta_version)\n",
    "    print(subject, meta_version, raw.info['bads'])\n",
    "    \n",
    "    raw, trial_events, info = cache[subject]\n",
    "    for stim_id in stimuli:\n",
    "        if include_cue:\n",
    "            trial_len = meta[stim_id]['length_with_cue']\n",
    "        else:\n",
    "            trial_len = meta[stim_id]['length_without_cue']\n",
    "\n",
    "        for cond in conditions:\n",
    "            event_id = get_event_id(stim_id, cond)\n",
    "            \n",
    "            # select EEG channels\n",
    "            eeg_picks = mne.pick_types(raw.info, meg=False, eeg=True, eog=False, stim=False, exclude=[])\n",
    "\n",
    "            epochs = mne.Epochs(raw, events=trial_events, event_id=event_id, \n",
    "                    tmin=0, tmax=trial_len, \n",
    "                    proj=False, picks=eeg_picks, preload=True, verbose=False)\n",
    "            \n",
    "            \n",
    "            # TEMPORARY FIX for update from mne-python 0.9 to 0.10\n",
    "            # interpolate bad channels again as ICA will not be applied on them\n",
    "            epochs.info['bads'] = info['bads']  # set bad channel flags for interpolation\n",
    "            epochs.interpolate_bads()\n",
    "\n",
    "            for i, trial in enumerate(epochs.get_data()):                                \n",
    "\n",
    "                trials.append(np.asarray(trial, dtype=np.float32))\n",
    "\n",
    "                trial_meta = dict()\n",
    "                trial_meta['subject'] = subject\n",
    "                if cond == 1:\n",
    "                    trial_meta['trial_type'] = 'perception'\n",
    "                else:\n",
    "                    trial_meta['trial_type'] = 'imagination'\n",
    "                trial_meta['trial_no'] = i\n",
    "                trial_meta['condition'] = cond\n",
    "                trial_meta['stimulus_id'] = stim_id\n",
    "\n",
    "#                 print trial_meta\n",
    "                metadata.append(trial_meta)                \n",
    "\n",
    "target_path = 'data/OpenMIIR-Perception-512Hz.pklz'\n",
    "print('saving dataset to', target_path)\n",
    "print(len(trials), len(metadata))\n",
    "save(target_path, (trials, metadata), mkdirs=True)"
   ]
  },
  {
   "cell_type": "code",
   "execution_count": 7,
   "metadata": {
    "collapsed": false,
    "deletable": true,
    "editable": true
   },
   "outputs": [
    {
     "name": "stdout",
     "output_type": "stream",
     "text": [
      "3519 8201\n"
     ]
    }
   ],
   "source": [
    "min_len, max_len = 10000, 0\n",
    "for trial in trials:\n",
    "    min_len = min(min_len, trial.shape[-1])\n",
    "    max_len = max(max_len, trial.shape[-1])\n",
    "print(min_len, max_len)"
   ]
  },
  {
   "cell_type": "code",
   "execution_count": 5,
   "metadata": {
    "collapsed": true
   },
   "outputs": [],
   "source": []
  }
 ],
 "metadata": {
  "kernelspec": {
   "name": "python3",
   "language": "python",
   "display_name": "Python 3 (ipykernel)"
  },
  "language_info": {
   "codemirror_mode": {
    "name": "ipython",
    "version": 2
   },
   "file_extension": ".py",
   "mimetype": "text/x-python",
   "name": "python",
   "nbconvert_exporter": "python",
   "pygments_lexer": "ipython2",
   "version": "2.7.13"
  }
 },
 "nbformat": 4,
 "nbformat_minor": 0
}